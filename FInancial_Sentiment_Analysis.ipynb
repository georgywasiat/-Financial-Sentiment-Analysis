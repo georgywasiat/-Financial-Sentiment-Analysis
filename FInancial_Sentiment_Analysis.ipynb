{
  "nbformat": 4,
  "nbformat_minor": 0,
  "metadata": {
    "colab": {
      "provenance": [],
      "toc_visible": true,
      "authorship_tag": "ABX9TyNdOE8k/qkGlvId5l0zU+kb",
      "include_colab_link": true
    },
    "kernelspec": {
      "name": "python3",
      "display_name": "Python 3"
    },
    "language_info": {
      "name": "python"
    }
  },
  "cells": [
    {
      "cell_type": "markdown",
      "metadata": {
        "id": "view-in-github",
        "colab_type": "text"
      },
      "source": [
        "<a href=\"https://colab.research.google.com/github/georgywasiat/-Financial-Sentiment-Analysis/blob/main/FInancial_Sentiment_Analysis.ipynb\" target=\"_parent\"><img src=\"https://colab.research.google.com/assets/colab-badge.svg\" alt=\"Open In Colab\"/></a>"
      ]
    },
    {
      "cell_type": "markdown",
      "source": [
        "Analisis Sentimen Finansial dengan menggunakan Algoritma Support Vektor Machine dan PCA"
      ],
      "metadata": {
        "id": "w4ESYJxkqwxe"
      }
    },
    {
      "cell_type": "markdown",
      "source": [
        "Georgy Banny Rizky Wasiat"
      ],
      "metadata": {
        "id": "FKpXeuKhrk9U"
      }
    },
    {
      "cell_type": "markdown",
      "source": [
        "# Persiapan Data"
      ],
      "metadata": {
        "id": "1h08-UNArA5N"
      }
    },
    {
      "cell_type": "code",
      "execution_count": null,
      "metadata": {
        "id": "8hbonRmRhmSq"
      },
      "outputs": [],
      "source": [
        "from google.colab import drive\n",
        "import pandas as pd\n",
        "from sklearn.impute import SimpleImputer\n",
        "from sklearn.preprocessing import StandardScaler\n",
        "import re\n",
        "import nltk\n",
        "nltk.download('punkt')\n",
        "from nltk.tokenize import word_tokenize\n",
        "from nltk.corpus import stopwords\n",
        "from sklearn.feature_extraction.text import TfidfVectorizer\n",
        "import re\n",
        "import nltk\n",
        "from nltk.tokenize import word_tokenize\n",
        "from nltk.corpus import stopwords\n",
        "from sklearn.model_selection import train_test_split\n",
        "from sklearn.svm import SVC\n",
        "from sklearn.metrics import accuracy_score, classification_report\n",
        "from sklearn.decomposition import PCA"
      ]
    },
    {
      "cell_type": "code",
      "source": [
        "drive.mount('/content/drive')"
      ],
      "metadata": {
        "colab": {
          "base_uri": "https://localhost:8080/"
        },
        "id": "h2L4TiL1h0YB",
        "outputId": "f6fa7246-59ac-49c4-91ee-448c1c7ce377"
      },
      "execution_count": null,
      "outputs": [
        {
          "output_type": "stream",
          "name": "stdout",
          "text": [
            "Mounted at /content/drive\n"
          ]
        }
      ]
    },
    {
      "cell_type": "code",
      "source": [
        "financial = pd.read_csv('/content/drive/My Drive/Portofolio/data.csv')\n",
        "\n",
        "financial_df = pd.DataFrame(financial)"
      ],
      "metadata": {
        "id": "wDEdrPQhh26f"
      },
      "execution_count": null,
      "outputs": []
    },
    {
      "cell_type": "code",
      "source": [
        "financial_df.head(10)"
      ],
      "metadata": {
        "colab": {
          "base_uri": "https://localhost:8080/",
          "height": 363
        },
        "id": "CwzqvZHShjTH",
        "outputId": "55c1ec36-4672-44df-dc89-9dd5f98810cf"
      },
      "execution_count": null,
      "outputs": [
        {
          "output_type": "execute_result",
          "data": {
            "text/plain": [
              "                                            Sentence Sentiment\n",
              "0  The GeoSolutions technology will leverage Bene...  positive\n",
              "1  $ESI on lows, down $1.50 to $2.50 BK a real po...  negative\n",
              "2  For the last quarter of 2010 , Componenta 's n...  positive\n",
              "3  According to the Finnish-Russian Chamber of Co...   neutral\n",
              "4  The Swedish buyout firm has sold its remaining...   neutral\n",
              "5    $SPY wouldn't be surprised to see a green close  positive\n",
              "6  Shell's $70 Billion BG Deal Meets Shareholder ...  negative\n",
              "7  SSH COMMUNICATIONS SECURITY CORP STOCK EXCHANG...  negative\n",
              "8  Kone 's net sales rose by some 14 % year-on-ye...  positive\n",
              "9  The Stockmann department store will have a tot...   neutral"
            ],
            "text/html": [
              "\n",
              "  <div id=\"df-daf70bc4-aa26-4fd4-be81-8417fbc93b82\" class=\"colab-df-container\">\n",
              "    <div>\n",
              "<style scoped>\n",
              "    .dataframe tbody tr th:only-of-type {\n",
              "        vertical-align: middle;\n",
              "    }\n",
              "\n",
              "    .dataframe tbody tr th {\n",
              "        vertical-align: top;\n",
              "    }\n",
              "\n",
              "    .dataframe thead th {\n",
              "        text-align: right;\n",
              "    }\n",
              "</style>\n",
              "<table border=\"1\" class=\"dataframe\">\n",
              "  <thead>\n",
              "    <tr style=\"text-align: right;\">\n",
              "      <th></th>\n",
              "      <th>Sentence</th>\n",
              "      <th>Sentiment</th>\n",
              "    </tr>\n",
              "  </thead>\n",
              "  <tbody>\n",
              "    <tr>\n",
              "      <th>0</th>\n",
              "      <td>The GeoSolutions technology will leverage Bene...</td>\n",
              "      <td>positive</td>\n",
              "    </tr>\n",
              "    <tr>\n",
              "      <th>1</th>\n",
              "      <td>$ESI on lows, down $1.50 to $2.50 BK a real po...</td>\n",
              "      <td>negative</td>\n",
              "    </tr>\n",
              "    <tr>\n",
              "      <th>2</th>\n",
              "      <td>For the last quarter of 2010 , Componenta 's n...</td>\n",
              "      <td>positive</td>\n",
              "    </tr>\n",
              "    <tr>\n",
              "      <th>3</th>\n",
              "      <td>According to the Finnish-Russian Chamber of Co...</td>\n",
              "      <td>neutral</td>\n",
              "    </tr>\n",
              "    <tr>\n",
              "      <th>4</th>\n",
              "      <td>The Swedish buyout firm has sold its remaining...</td>\n",
              "      <td>neutral</td>\n",
              "    </tr>\n",
              "    <tr>\n",
              "      <th>5</th>\n",
              "      <td>$SPY wouldn't be surprised to see a green close</td>\n",
              "      <td>positive</td>\n",
              "    </tr>\n",
              "    <tr>\n",
              "      <th>6</th>\n",
              "      <td>Shell's $70 Billion BG Deal Meets Shareholder ...</td>\n",
              "      <td>negative</td>\n",
              "    </tr>\n",
              "    <tr>\n",
              "      <th>7</th>\n",
              "      <td>SSH COMMUNICATIONS SECURITY CORP STOCK EXCHANG...</td>\n",
              "      <td>negative</td>\n",
              "    </tr>\n",
              "    <tr>\n",
              "      <th>8</th>\n",
              "      <td>Kone 's net sales rose by some 14 % year-on-ye...</td>\n",
              "      <td>positive</td>\n",
              "    </tr>\n",
              "    <tr>\n",
              "      <th>9</th>\n",
              "      <td>The Stockmann department store will have a tot...</td>\n",
              "      <td>neutral</td>\n",
              "    </tr>\n",
              "  </tbody>\n",
              "</table>\n",
              "</div>\n",
              "    <div class=\"colab-df-buttons\">\n",
              "\n",
              "  <div class=\"colab-df-container\">\n",
              "    <button class=\"colab-df-convert\" onclick=\"convertToInteractive('df-daf70bc4-aa26-4fd4-be81-8417fbc93b82')\"\n",
              "            title=\"Convert this dataframe to an interactive table.\"\n",
              "            style=\"display:none;\">\n",
              "\n",
              "  <svg xmlns=\"http://www.w3.org/2000/svg\" height=\"24px\" viewBox=\"0 -960 960 960\">\n",
              "    <path d=\"M120-120v-720h720v720H120Zm60-500h600v-160H180v160Zm220 220h160v-160H400v160Zm0 220h160v-160H400v160ZM180-400h160v-160H180v160Zm440 0h160v-160H620v160ZM180-180h160v-160H180v160Zm440 0h160v-160H620v160Z\"/>\n",
              "  </svg>\n",
              "    </button>\n",
              "\n",
              "  <style>\n",
              "    .colab-df-container {\n",
              "      display:flex;\n",
              "      gap: 12px;\n",
              "    }\n",
              "\n",
              "    .colab-df-convert {\n",
              "      background-color: #E8F0FE;\n",
              "      border: none;\n",
              "      border-radius: 50%;\n",
              "      cursor: pointer;\n",
              "      display: none;\n",
              "      fill: #1967D2;\n",
              "      height: 32px;\n",
              "      padding: 0 0 0 0;\n",
              "      width: 32px;\n",
              "    }\n",
              "\n",
              "    .colab-df-convert:hover {\n",
              "      background-color: #E2EBFA;\n",
              "      box-shadow: 0px 1px 2px rgba(60, 64, 67, 0.3), 0px 1px 3px 1px rgba(60, 64, 67, 0.15);\n",
              "      fill: #174EA6;\n",
              "    }\n",
              "\n",
              "    .colab-df-buttons div {\n",
              "      margin-bottom: 4px;\n",
              "    }\n",
              "\n",
              "    [theme=dark] .colab-df-convert {\n",
              "      background-color: #3B4455;\n",
              "      fill: #D2E3FC;\n",
              "    }\n",
              "\n",
              "    [theme=dark] .colab-df-convert:hover {\n",
              "      background-color: #434B5C;\n",
              "      box-shadow: 0px 1px 3px 1px rgba(0, 0, 0, 0.15);\n",
              "      filter: drop-shadow(0px 1px 2px rgba(0, 0, 0, 0.3));\n",
              "      fill: #FFFFFF;\n",
              "    }\n",
              "  </style>\n",
              "\n",
              "    <script>\n",
              "      const buttonEl =\n",
              "        document.querySelector('#df-daf70bc4-aa26-4fd4-be81-8417fbc93b82 button.colab-df-convert');\n",
              "      buttonEl.style.display =\n",
              "        google.colab.kernel.accessAllowed ? 'block' : 'none';\n",
              "\n",
              "      async function convertToInteractive(key) {\n",
              "        const element = document.querySelector('#df-daf70bc4-aa26-4fd4-be81-8417fbc93b82');\n",
              "        const dataTable =\n",
              "          await google.colab.kernel.invokeFunction('convertToInteractive',\n",
              "                                                    [key], {});\n",
              "        if (!dataTable) return;\n",
              "\n",
              "        const docLinkHtml = 'Like what you see? Visit the ' +\n",
              "          '<a target=\"_blank\" href=https://colab.research.google.com/notebooks/data_table.ipynb>data table notebook</a>'\n",
              "          + ' to learn more about interactive tables.';\n",
              "        element.innerHTML = '';\n",
              "        dataTable['output_type'] = 'display_data';\n",
              "        await google.colab.output.renderOutput(dataTable, element);\n",
              "        const docLink = document.createElement('div');\n",
              "        docLink.innerHTML = docLinkHtml;\n",
              "        element.appendChild(docLink);\n",
              "      }\n",
              "    </script>\n",
              "  </div>\n",
              "\n",
              "\n",
              "<div id=\"df-09cbe26e-9dc2-40b2-ae0f-17398eea5e3c\">\n",
              "  <button class=\"colab-df-quickchart\" onclick=\"quickchart('df-09cbe26e-9dc2-40b2-ae0f-17398eea5e3c')\"\n",
              "            title=\"Suggest charts\"\n",
              "            style=\"display:none;\">\n",
              "\n",
              "<svg xmlns=\"http://www.w3.org/2000/svg\" height=\"24px\"viewBox=\"0 0 24 24\"\n",
              "     width=\"24px\">\n",
              "    <g>\n",
              "        <path d=\"M19 3H5c-1.1 0-2 .9-2 2v14c0 1.1.9 2 2 2h14c1.1 0 2-.9 2-2V5c0-1.1-.9-2-2-2zM9 17H7v-7h2v7zm4 0h-2V7h2v10zm4 0h-2v-4h2v4z\"/>\n",
              "    </g>\n",
              "</svg>\n",
              "  </button>\n",
              "\n",
              "<style>\n",
              "  .colab-df-quickchart {\n",
              "      --bg-color: #E8F0FE;\n",
              "      --fill-color: #1967D2;\n",
              "      --hover-bg-color: #E2EBFA;\n",
              "      --hover-fill-color: #174EA6;\n",
              "      --disabled-fill-color: #AAA;\n",
              "      --disabled-bg-color: #DDD;\n",
              "  }\n",
              "\n",
              "  [theme=dark] .colab-df-quickchart {\n",
              "      --bg-color: #3B4455;\n",
              "      --fill-color: #D2E3FC;\n",
              "      --hover-bg-color: #434B5C;\n",
              "      --hover-fill-color: #FFFFFF;\n",
              "      --disabled-bg-color: #3B4455;\n",
              "      --disabled-fill-color: #666;\n",
              "  }\n",
              "\n",
              "  .colab-df-quickchart {\n",
              "    background-color: var(--bg-color);\n",
              "    border: none;\n",
              "    border-radius: 50%;\n",
              "    cursor: pointer;\n",
              "    display: none;\n",
              "    fill: var(--fill-color);\n",
              "    height: 32px;\n",
              "    padding: 0;\n",
              "    width: 32px;\n",
              "  }\n",
              "\n",
              "  .colab-df-quickchart:hover {\n",
              "    background-color: var(--hover-bg-color);\n",
              "    box-shadow: 0 1px 2px rgba(60, 64, 67, 0.3), 0 1px 3px 1px rgba(60, 64, 67, 0.15);\n",
              "    fill: var(--button-hover-fill-color);\n",
              "  }\n",
              "\n",
              "  .colab-df-quickchart-complete:disabled,\n",
              "  .colab-df-quickchart-complete:disabled:hover {\n",
              "    background-color: var(--disabled-bg-color);\n",
              "    fill: var(--disabled-fill-color);\n",
              "    box-shadow: none;\n",
              "  }\n",
              "\n",
              "  .colab-df-spinner {\n",
              "    border: 2px solid var(--fill-color);\n",
              "    border-color: transparent;\n",
              "    border-bottom-color: var(--fill-color);\n",
              "    animation:\n",
              "      spin 1s steps(1) infinite;\n",
              "  }\n",
              "\n",
              "  @keyframes spin {\n",
              "    0% {\n",
              "      border-color: transparent;\n",
              "      border-bottom-color: var(--fill-color);\n",
              "      border-left-color: var(--fill-color);\n",
              "    }\n",
              "    20% {\n",
              "      border-color: transparent;\n",
              "      border-left-color: var(--fill-color);\n",
              "      border-top-color: var(--fill-color);\n",
              "    }\n",
              "    30% {\n",
              "      border-color: transparent;\n",
              "      border-left-color: var(--fill-color);\n",
              "      border-top-color: var(--fill-color);\n",
              "      border-right-color: var(--fill-color);\n",
              "    }\n",
              "    40% {\n",
              "      border-color: transparent;\n",
              "      border-right-color: var(--fill-color);\n",
              "      border-top-color: var(--fill-color);\n",
              "    }\n",
              "    60% {\n",
              "      border-color: transparent;\n",
              "      border-right-color: var(--fill-color);\n",
              "    }\n",
              "    80% {\n",
              "      border-color: transparent;\n",
              "      border-right-color: var(--fill-color);\n",
              "      border-bottom-color: var(--fill-color);\n",
              "    }\n",
              "    90% {\n",
              "      border-color: transparent;\n",
              "      border-bottom-color: var(--fill-color);\n",
              "    }\n",
              "  }\n",
              "</style>\n",
              "\n",
              "  <script>\n",
              "    async function quickchart(key) {\n",
              "      const quickchartButtonEl =\n",
              "        document.querySelector('#' + key + ' button');\n",
              "      quickchartButtonEl.disabled = true;  // To prevent multiple clicks.\n",
              "      quickchartButtonEl.classList.add('colab-df-spinner');\n",
              "      try {\n",
              "        const charts = await google.colab.kernel.invokeFunction(\n",
              "            'suggestCharts', [key], {});\n",
              "      } catch (error) {\n",
              "        console.error('Error during call to suggestCharts:', error);\n",
              "      }\n",
              "      quickchartButtonEl.classList.remove('colab-df-spinner');\n",
              "      quickchartButtonEl.classList.add('colab-df-quickchart-complete');\n",
              "    }\n",
              "    (() => {\n",
              "      let quickchartButtonEl =\n",
              "        document.querySelector('#df-09cbe26e-9dc2-40b2-ae0f-17398eea5e3c button');\n",
              "      quickchartButtonEl.style.display =\n",
              "        google.colab.kernel.accessAllowed ? 'block' : 'none';\n",
              "    })();\n",
              "  </script>\n",
              "</div>\n",
              "    </div>\n",
              "  </div>\n"
            ]
          },
          "metadata": {},
          "execution_count": 4
        }
      ]
    },
    {
      "cell_type": "code",
      "source": [
        "#Pemahaman Data\n",
        "print(\"Info dataset:\")\n",
        "print(financial.info())\n",
        "\n",
        "#Penanganan Data Duplikat\n",
        "financial.drop_duplicates(inplace=True)"
      ],
      "metadata": {
        "colab": {
          "base_uri": "https://localhost:8080/"
        },
        "id": "I0kJ0-90iBGL",
        "outputId": "6655180b-fd42-41fc-a36f-4f1897176d0b"
      },
      "execution_count": null,
      "outputs": [
        {
          "output_type": "stream",
          "name": "stdout",
          "text": [
            "Info dataset:\n",
            "<class 'pandas.core.frame.DataFrame'>\n",
            "RangeIndex: 5842 entries, 0 to 5841\n",
            "Data columns (total 2 columns):\n",
            " #   Column     Non-Null Count  Dtype \n",
            "---  ------     --------------  ----- \n",
            " 0   Sentence   5842 non-null   object\n",
            " 1   Sentiment  5842 non-null   object\n",
            "dtypes: object(2)\n",
            "memory usage: 91.4+ KB\n",
            "None\n"
          ]
        }
      ]
    },
    {
      "cell_type": "code",
      "source": [
        "# Tentukan kolom teks dan label sentimen\n",
        "text_column = 'Sentence'  # Gantilah dengan nama kolom teks pada dataset Anda\n",
        "sentiment_column = 'Sentiment'  # Gantilah dengan nama kolom sentimen pada dataset Anda\n",
        "\n",
        "# Fungsi untuk membersihkan teks\n",
        "def clean_text(text):\n",
        "    # Menghapus karakter yang tidak diperlukan, tanda baca, atau simbol khusus\n",
        "    text = re.sub(r'[^a-zA-Z0-9\\s]', '', str(text))\n",
        "\n",
        "    # Normalisasi teks: mengubah huruf kapital menjadi huruf kecil\n",
        "    text = text.lower()\n",
        "\n",
        "    # Menghapus kata-kata tidak relevan atau noise (contoh: kata dengan panjang kurang dari 3)\n",
        "    text = ' '.join(word for word in text.split() if len(word) > 2)\n",
        "\n",
        "    return text\n",
        "\n",
        "# Terapkan fungsi ke kolom teks pada dataset\n",
        "financial[text_column] = financial[text_column].apply(clean_text)\n",
        "\n",
        "# Cetak informasi dataset setelah pembersihan teks\n",
        "print(financial[[text_column, sentiment_column]].head())"
      ],
      "metadata": {
        "colab": {
          "base_uri": "https://localhost:8080/"
        },
        "id": "mtm-rCxAjKWl",
        "outputId": "00c08a16-9eb2-4654-fee2-6efb18316d64"
      },
      "execution_count": null,
      "outputs": [
        {
          "output_type": "stream",
          "name": "stdout",
          "text": [
            "                                            Sentence Sentiment\n",
            "0  the geosolutions technology will leverage bene...  positive\n",
            "1             esi lows down 150 250 real possibility  negative\n",
            "2  for the last quarter 2010 componenta net sales...  positive\n",
            "3  according the finnishrussian chamber commerce ...   neutral\n",
            "4  the swedish buyout firm has sold its remaining...   neutral\n"
          ]
        }
      ]
    },
    {
      "cell_type": "code",
      "source": [
        "# Unduh sumber daya NLTK\n",
        "nltk.download('punkt')\n",
        "nltk.download('wordnet')\n",
        "nltk.download('stopwords')\n"
      ],
      "metadata": {
        "colab": {
          "base_uri": "https://localhost:8080/"
        },
        "id": "bNpXul4glMVJ",
        "outputId": "b6e5901a-b205-4542-8e17-e329ef3f8c30"
      },
      "execution_count": null,
      "outputs": [
        {
          "output_type": "stream",
          "name": "stderr",
          "text": [
            "[nltk_data] Downloading package punkt to /root/nltk_data...\n",
            "[nltk_data]   Unzipping tokenizers/punkt.zip.\n",
            "[nltk_data] Downloading package punkt to /root/nltk_data...\n",
            "[nltk_data]   Package punkt is already up-to-date!\n",
            "[nltk_data] Downloading package wordnet to /root/nltk_data...\n",
            "[nltk_data] Downloading package stopwords to /root/nltk_data...\n",
            "[nltk_data]   Unzipping corpora/stopwords.zip.\n"
          ]
        },
        {
          "output_type": "execute_result",
          "data": {
            "text/plain": [
              "True"
            ]
          },
          "metadata": {},
          "execution_count": 7
        }
      ]
    },
    {
      "cell_type": "code",
      "source": [
        "# Fungsi untuk melakukan tokenisasi\n",
        "def tokenize_text(text):\n",
        "    # Tokenisasi teks menggunakan NLTK\n",
        "    tokens = word_tokenize(text)\n",
        "\n",
        "    return tokens\n",
        "\n",
        "# Terapkan fungsi tokenisasi ke kolom teks pada dataset\n",
        "financial['Tokens'] = financial[text_column].apply(tokenize_text)\n",
        "\n",
        "# Cetak informasi dataset setelah tokenisasi\n",
        "print(financial[[text_column, 'Tokens', sentiment_column]].head())"
      ],
      "metadata": {
        "colab": {
          "base_uri": "https://localhost:8080/"
        },
        "id": "f_KinRAMkxEG",
        "outputId": "cf8d360c-0bb7-453f-fb7e-84c106cb0510"
      },
      "execution_count": null,
      "outputs": [
        {
          "output_type": "stream",
          "name": "stdout",
          "text": [
            "                                            Sentence  \\\n",
            "0  the geosolutions technology will leverage bene...   \n",
            "1             esi lows down 150 250 real possibility   \n",
            "2  for the last quarter 2010 componenta net sales...   \n",
            "3  according the finnishrussian chamber commerce ...   \n",
            "4  the swedish buyout firm has sold its remaining...   \n",
            "\n",
            "                                              Tokens Sentiment  \n",
            "0  [the, geosolutions, technology, will, leverage...  positive  \n",
            "1     [esi, lows, down, 150, 250, real, possibility]  negative  \n",
            "2  [for, the, last, quarter, 2010, componenta, ne...  positive  \n",
            "3  [according, the, finnishrussian, chamber, comm...   neutral  \n",
            "4  [the, swedish, buyout, firm, has, sold, its, r...   neutral  \n"
          ]
        }
      ]
    },
    {
      "cell_type": "code",
      "source": [
        "# Fungsi untuk melakukan stopword removal\n",
        "def remove_stopwords(tokens):\n",
        "    # Mengambil stopword dalam bahasa Inggris\n",
        "    stop_words = set(stopwords.words('english'))\n",
        "    # Menghapus stopword dari tokenisasi\n",
        "    filtered_tokens = [word for word in tokens if word.lower() not in stop_words]\n",
        "    return filtered_tokens\n",
        "\n",
        "# Membuat DataFrame\n",
        "financial = pd.DataFrame(financial)\n",
        "\n",
        "# Kolom teks pada dataset\n",
        "text_column = 'text_column'\n",
        "\n",
        "# Terapkan fungsi stopword removal ke kolom Tokens\n",
        "financial['Tokens'] = financial['Tokens'].apply(remove_stopwords)"
      ],
      "metadata": {
        "id": "vvUobzLf33vQ"
      },
      "execution_count": null,
      "outputs": []
    },
    {
      "cell_type": "code",
      "source": [
        "# Fungsi untuk melakukan stemming\n",
        "def stem_text(tokens):\n",
        "    stemmer = PorterStemmer()\n",
        "    stemmed_tokens = [stemmer.stem(token) for token in tokens]\n",
        "    return stemmed_tokens\n",
        "\n",
        "# Fungsi untuk melakukan lemmatization\n",
        "def lemmatize_text(tokens):\n",
        "    lemmatizer = WordNetLemmatizer()\n",
        "    lemmatized_tokens = [lemmatizer.lemmatize(token) for token in tokens]\n",
        "    return lemmatized_tokens\n",
        "\n",
        "# Terapkan fungsi stemming ke kolom Tokens pada dataset\n",
        "financial['Stemmed_Tokens'] = financial['Tokens'].apply(stem_text)\n",
        "\n",
        "# Terapkan fungsi lemmatization ke kolom Tokens pada dataset\n",
        "financial['Lemmatized_Tokens'] = financial['Tokens'].apply(lemmatize_text)\n",
        "\n",
        "# Cetak informasi dataset setelah tokenisasi, stemming, dan lemmatization\n",
        "print(financial[['Tokens', 'Stemmed_Tokens', 'Lemmatized_Tokens', sentiment_column]].head())"
      ],
      "metadata": {
        "colab": {
          "base_uri": "https://localhost:8080/"
        },
        "id": "t9ktpGUunAw1",
        "outputId": "43626bff-e805-45be-dc01-5a9bfa59c51d"
      },
      "execution_count": null,
      "outputs": [
        {
          "output_type": "stream",
          "name": "stdout",
          "text": [
            "                                              Tokens  \\\n",
            "0  [geosolutions, technology, leverage, benefon, ...   \n",
            "1           [esi, lows, 150, 250, real, possibility]   \n",
            "2  [last, quarter, 2010, componenta, net, sales, ...   \n",
            "3  [according, finnishrussian, chamber, commerce,...   \n",
            "4  [swedish, buyout, firm, sold, remaining, 224, ...   \n",
            "\n",
            "                                      Stemmed_Tokens  \\\n",
            "0  [geosolut, technolog, leverag, benefon, gp, so...   \n",
            "1                [esi, low, 150, 250, real, possibl]   \n",
            "2  [last, quarter, 2010, componenta, net, sale, d...   \n",
            "3  [accord, finnishrussian, chamber, commerc, maj...   \n",
            "4  [swedish, buyout, firm, sold, remain, 224, per...   \n",
            "\n",
            "                                   Lemmatized_Tokens Sentiment  \n",
            "0  [geosolutions, technology, leverage, benefon, ...  positive  \n",
            "1            [esi, low, 150, 250, real, possibility]  negative  \n",
            "2  [last, quarter, 2010, componenta, net, sale, d...  positive  \n",
            "3  [according, finnishrussian, chamber, commerce,...   neutral  \n",
            "4  [swedish, buyout, firm, sold, remaining, 224, ...   neutral  \n"
          ]
        }
      ]
    },
    {
      "cell_type": "code",
      "source": [
        "# ... (Kode sebelumnya)\n",
        "\n",
        "# Gabungkan kembali tokens menjadi kalimat\n",
        "financial['Processed_Text'] = financial['Lemmatized_Tokens'].apply(lambda tokens: ' '.join(tokens)) #yang dipilih adalah lemmatized\n",
        "\n",
        "# Inisialisasi TF-IDF Vectorizer\n",
        "tfidf_vectorizer = TfidfVectorizer(max_features=1000, stop_words=stopwords.words('english'))\n",
        "\n",
        "# Ekstraksi fitur menggunakan TF-IDF\n",
        "tfidf_matrix = tfidf_vectorizer.fit_transform(financial['Processed_Text'])\n",
        "\n",
        "# Konversi hasil ekstraksi fitur menjadi DataFrame\n",
        "tfidf_df = pd.DataFrame(tfidf_matrix.toarray(), columns=tfidf_vectorizer.get_feature_names_out())\n",
        "\n",
        "# Gabungkan hasil ekstraksi fitur dengan kolom label sentimen\n",
        "final_data = pd.concat([tfidf_df, financial[sentiment_column]], axis=1)\n",
        "\n",
        "# Cetak informasi dataset setelah ekstraksi fitur\n",
        "print(final_data.head())\n"
      ],
      "metadata": {
        "colab": {
          "base_uri": "https://localhost:8080/"
        },
        "id": "ohXFp5KRu0aE",
        "outputId": "fb919235-ae76-4e48-f47e-ad42f3ae7df1"
      },
      "execution_count": null,
      "outputs": [
        {
          "output_type": "stream",
          "name": "stdout",
          "text": [
            "   000  100  12month  135       150  200  2004  2005  2006  2007  ...  worth  \\\n",
            "0  0.0  0.0      0.0  0.0  0.000000  0.0   0.0   0.0   0.0   0.0  ...    0.0   \n",
            "1  0.0  0.0      0.0  0.0  0.614215  0.0   0.0   0.0   0.0   0.0  ...    0.0   \n",
            "2  0.0  0.0      0.0  0.0  0.000000  0.0   0.0   0.0   0.0   0.0  ...    0.0   \n",
            "3  0.0  0.0      0.0  0.0  0.000000  0.0   0.0   0.0   0.0   0.0  ...    0.0   \n",
            "4  0.0  0.0      0.0  0.0  0.000000  0.0   0.0   0.0   0.0   0.0  ...    0.0   \n",
            "\n",
            "   would  x20ac      year  yearonyear  yesterday  yet  yhoo  yit  Sentiment  \n",
            "0    0.0    0.0  0.000000         0.0        0.0  0.0   0.0  0.0   positive  \n",
            "1    0.0    0.0  0.000000         0.0        0.0  0.0   0.0  0.0   negative  \n",
            "2    0.0    0.0  0.204461         0.0        0.0  0.0   0.0  0.0   positive  \n",
            "3    0.0    0.0  0.000000         0.0        0.0  0.0   0.0  0.0    neutral  \n",
            "4    0.0    0.0  0.000000         0.0        0.0  0.0   0.0  0.0    neutral  \n",
            "\n",
            "[5 rows x 1001 columns]\n"
          ]
        }
      ]
    },
    {
      "cell_type": "code",
      "source": [
        "final_data.head(100)"
      ],
      "metadata": {
        "colab": {
          "base_uri": "https://localhost:8080/",
          "height": 443
        },
        "id": "VnUp3eiaxho-",
        "outputId": "1033903e-43d8-4a32-d412-9ed4192af0ed"
      },
      "execution_count": null,
      "outputs": [
        {
          "output_type": "execute_result",
          "data": {
            "text/plain": [
              "    000  100  12month  135       150  200  2004  2005  2006      2007  ...  \\\n",
              "0   0.0  0.0      0.0  0.0  0.000000  0.0   0.0   0.0   0.0  0.000000  ...   \n",
              "1   0.0  0.0      0.0  0.0  0.614215  0.0   0.0   0.0   0.0  0.000000  ...   \n",
              "2   0.0  0.0      0.0  0.0  0.000000  0.0   0.0   0.0   0.0  0.000000  ...   \n",
              "3   0.0  0.0      0.0  0.0  0.000000  0.0   0.0   0.0   0.0  0.000000  ...   \n",
              "4   0.0  0.0      0.0  0.0  0.000000  0.0   0.0   0.0   0.0  0.000000  ...   \n",
              "..  ...  ...      ...  ...       ...  ...   ...   ...   ...       ...  ...   \n",
              "95  0.0  0.0      0.0  0.0  0.000000  0.0   0.0   0.0   0.0  0.000000  ...   \n",
              "96  0.0  0.0      0.0  0.0  0.000000  0.0   0.0   0.0   0.0  0.000000  ...   \n",
              "97  0.0  0.0      0.0  0.0  0.000000  0.0   0.0   0.0   0.0  0.000000  ...   \n",
              "98  0.0  0.0      0.0  0.0  0.000000  0.0   0.0   0.0   0.0  0.000000  ...   \n",
              "99  0.0  0.0      0.0  0.0  0.000000  0.0   0.0   0.0   0.0  0.193071  ...   \n",
              "\n",
              "    worth     would  x20ac      year  yearonyear  yesterday  yet  yhoo  yit  \\\n",
              "0     0.0  0.000000    0.0  0.000000         0.0        0.0  0.0   0.0  0.0   \n",
              "1     0.0  0.000000    0.0  0.000000         0.0        0.0  0.0   0.0  0.0   \n",
              "2     0.0  0.000000    0.0  0.204461         0.0        0.0  0.0   0.0  0.0   \n",
              "3     0.0  0.000000    0.0  0.000000         0.0        0.0  0.0   0.0  0.0   \n",
              "4     0.0  0.000000    0.0  0.000000         0.0        0.0  0.0   0.0  0.0   \n",
              "..    ...       ...    ...       ...         ...        ...  ...   ...  ...   \n",
              "95    0.0  0.000000    0.0  0.000000         0.0        0.0  0.0   0.0  0.0   \n",
              "96    0.0  0.377802    0.0  0.000000         0.0        0.0  0.0   0.0  0.0   \n",
              "97    0.0  0.000000    0.0  0.000000         0.0        0.0  0.0   0.0  0.0   \n",
              "98    0.0  0.000000    0.0  0.000000         0.0        0.0  0.0   0.0  0.0   \n",
              "99    0.0  0.000000    0.0  0.000000         0.0        0.0  0.0   0.0  0.0   \n",
              "\n",
              "    Sentiment  \n",
              "0    positive  \n",
              "1    negative  \n",
              "2    positive  \n",
              "3     neutral  \n",
              "4     neutral  \n",
              "..        ...  \n",
              "95    neutral  \n",
              "96    neutral  \n",
              "97    neutral  \n",
              "98   negative  \n",
              "99    neutral  \n",
              "\n",
              "[100 rows x 1001 columns]"
            ],
            "text/html": [
              "\n",
              "  <div id=\"df-0e6dfd6a-f52e-421e-a978-0ab3d7544465\" class=\"colab-df-container\">\n",
              "    <div>\n",
              "<style scoped>\n",
              "    .dataframe tbody tr th:only-of-type {\n",
              "        vertical-align: middle;\n",
              "    }\n",
              "\n",
              "    .dataframe tbody tr th {\n",
              "        vertical-align: top;\n",
              "    }\n",
              "\n",
              "    .dataframe thead th {\n",
              "        text-align: right;\n",
              "    }\n",
              "</style>\n",
              "<table border=\"1\" class=\"dataframe\">\n",
              "  <thead>\n",
              "    <tr style=\"text-align: right;\">\n",
              "      <th></th>\n",
              "      <th>000</th>\n",
              "      <th>100</th>\n",
              "      <th>12month</th>\n",
              "      <th>135</th>\n",
              "      <th>150</th>\n",
              "      <th>200</th>\n",
              "      <th>2004</th>\n",
              "      <th>2005</th>\n",
              "      <th>2006</th>\n",
              "      <th>2007</th>\n",
              "      <th>...</th>\n",
              "      <th>worth</th>\n",
              "      <th>would</th>\n",
              "      <th>x20ac</th>\n",
              "      <th>year</th>\n",
              "      <th>yearonyear</th>\n",
              "      <th>yesterday</th>\n",
              "      <th>yet</th>\n",
              "      <th>yhoo</th>\n",
              "      <th>yit</th>\n",
              "      <th>Sentiment</th>\n",
              "    </tr>\n",
              "  </thead>\n",
              "  <tbody>\n",
              "    <tr>\n",
              "      <th>0</th>\n",
              "      <td>0.0</td>\n",
              "      <td>0.0</td>\n",
              "      <td>0.0</td>\n",
              "      <td>0.0</td>\n",
              "      <td>0.000000</td>\n",
              "      <td>0.0</td>\n",
              "      <td>0.0</td>\n",
              "      <td>0.0</td>\n",
              "      <td>0.0</td>\n",
              "      <td>0.000000</td>\n",
              "      <td>...</td>\n",
              "      <td>0.0</td>\n",
              "      <td>0.000000</td>\n",
              "      <td>0.0</td>\n",
              "      <td>0.000000</td>\n",
              "      <td>0.0</td>\n",
              "      <td>0.0</td>\n",
              "      <td>0.0</td>\n",
              "      <td>0.0</td>\n",
              "      <td>0.0</td>\n",
              "      <td>positive</td>\n",
              "    </tr>\n",
              "    <tr>\n",
              "      <th>1</th>\n",
              "      <td>0.0</td>\n",
              "      <td>0.0</td>\n",
              "      <td>0.0</td>\n",
              "      <td>0.0</td>\n",
              "      <td>0.614215</td>\n",
              "      <td>0.0</td>\n",
              "      <td>0.0</td>\n",
              "      <td>0.0</td>\n",
              "      <td>0.0</td>\n",
              "      <td>0.000000</td>\n",
              "      <td>...</td>\n",
              "      <td>0.0</td>\n",
              "      <td>0.000000</td>\n",
              "      <td>0.0</td>\n",
              "      <td>0.000000</td>\n",
              "      <td>0.0</td>\n",
              "      <td>0.0</td>\n",
              "      <td>0.0</td>\n",
              "      <td>0.0</td>\n",
              "      <td>0.0</td>\n",
              "      <td>negative</td>\n",
              "    </tr>\n",
              "    <tr>\n",
              "      <th>2</th>\n",
              "      <td>0.0</td>\n",
              "      <td>0.0</td>\n",
              "      <td>0.0</td>\n",
              "      <td>0.0</td>\n",
              "      <td>0.000000</td>\n",
              "      <td>0.0</td>\n",
              "      <td>0.0</td>\n",
              "      <td>0.0</td>\n",
              "      <td>0.0</td>\n",
              "      <td>0.000000</td>\n",
              "      <td>...</td>\n",
              "      <td>0.0</td>\n",
              "      <td>0.000000</td>\n",
              "      <td>0.0</td>\n",
              "      <td>0.204461</td>\n",
              "      <td>0.0</td>\n",
              "      <td>0.0</td>\n",
              "      <td>0.0</td>\n",
              "      <td>0.0</td>\n",
              "      <td>0.0</td>\n",
              "      <td>positive</td>\n",
              "    </tr>\n",
              "    <tr>\n",
              "      <th>3</th>\n",
              "      <td>0.0</td>\n",
              "      <td>0.0</td>\n",
              "      <td>0.0</td>\n",
              "      <td>0.0</td>\n",
              "      <td>0.000000</td>\n",
              "      <td>0.0</td>\n",
              "      <td>0.0</td>\n",
              "      <td>0.0</td>\n",
              "      <td>0.0</td>\n",
              "      <td>0.000000</td>\n",
              "      <td>...</td>\n",
              "      <td>0.0</td>\n",
              "      <td>0.000000</td>\n",
              "      <td>0.0</td>\n",
              "      <td>0.000000</td>\n",
              "      <td>0.0</td>\n",
              "      <td>0.0</td>\n",
              "      <td>0.0</td>\n",
              "      <td>0.0</td>\n",
              "      <td>0.0</td>\n",
              "      <td>neutral</td>\n",
              "    </tr>\n",
              "    <tr>\n",
              "      <th>4</th>\n",
              "      <td>0.0</td>\n",
              "      <td>0.0</td>\n",
              "      <td>0.0</td>\n",
              "      <td>0.0</td>\n",
              "      <td>0.000000</td>\n",
              "      <td>0.0</td>\n",
              "      <td>0.0</td>\n",
              "      <td>0.0</td>\n",
              "      <td>0.0</td>\n",
              "      <td>0.000000</td>\n",
              "      <td>...</td>\n",
              "      <td>0.0</td>\n",
              "      <td>0.000000</td>\n",
              "      <td>0.0</td>\n",
              "      <td>0.000000</td>\n",
              "      <td>0.0</td>\n",
              "      <td>0.0</td>\n",
              "      <td>0.0</td>\n",
              "      <td>0.0</td>\n",
              "      <td>0.0</td>\n",
              "      <td>neutral</td>\n",
              "    </tr>\n",
              "    <tr>\n",
              "      <th>...</th>\n",
              "      <td>...</td>\n",
              "      <td>...</td>\n",
              "      <td>...</td>\n",
              "      <td>...</td>\n",
              "      <td>...</td>\n",
              "      <td>...</td>\n",
              "      <td>...</td>\n",
              "      <td>...</td>\n",
              "      <td>...</td>\n",
              "      <td>...</td>\n",
              "      <td>...</td>\n",
              "      <td>...</td>\n",
              "      <td>...</td>\n",
              "      <td>...</td>\n",
              "      <td>...</td>\n",
              "      <td>...</td>\n",
              "      <td>...</td>\n",
              "      <td>...</td>\n",
              "      <td>...</td>\n",
              "      <td>...</td>\n",
              "      <td>...</td>\n",
              "    </tr>\n",
              "    <tr>\n",
              "      <th>95</th>\n",
              "      <td>0.0</td>\n",
              "      <td>0.0</td>\n",
              "      <td>0.0</td>\n",
              "      <td>0.0</td>\n",
              "      <td>0.000000</td>\n",
              "      <td>0.0</td>\n",
              "      <td>0.0</td>\n",
              "      <td>0.0</td>\n",
              "      <td>0.0</td>\n",
              "      <td>0.000000</td>\n",
              "      <td>...</td>\n",
              "      <td>0.0</td>\n",
              "      <td>0.000000</td>\n",
              "      <td>0.0</td>\n",
              "      <td>0.000000</td>\n",
              "      <td>0.0</td>\n",
              "      <td>0.0</td>\n",
              "      <td>0.0</td>\n",
              "      <td>0.0</td>\n",
              "      <td>0.0</td>\n",
              "      <td>neutral</td>\n",
              "    </tr>\n",
              "    <tr>\n",
              "      <th>96</th>\n",
              "      <td>0.0</td>\n",
              "      <td>0.0</td>\n",
              "      <td>0.0</td>\n",
              "      <td>0.0</td>\n",
              "      <td>0.000000</td>\n",
              "      <td>0.0</td>\n",
              "      <td>0.0</td>\n",
              "      <td>0.0</td>\n",
              "      <td>0.0</td>\n",
              "      <td>0.000000</td>\n",
              "      <td>...</td>\n",
              "      <td>0.0</td>\n",
              "      <td>0.377802</td>\n",
              "      <td>0.0</td>\n",
              "      <td>0.000000</td>\n",
              "      <td>0.0</td>\n",
              "      <td>0.0</td>\n",
              "      <td>0.0</td>\n",
              "      <td>0.0</td>\n",
              "      <td>0.0</td>\n",
              "      <td>neutral</td>\n",
              "    </tr>\n",
              "    <tr>\n",
              "      <th>97</th>\n",
              "      <td>0.0</td>\n",
              "      <td>0.0</td>\n",
              "      <td>0.0</td>\n",
              "      <td>0.0</td>\n",
              "      <td>0.000000</td>\n",
              "      <td>0.0</td>\n",
              "      <td>0.0</td>\n",
              "      <td>0.0</td>\n",
              "      <td>0.0</td>\n",
              "      <td>0.000000</td>\n",
              "      <td>...</td>\n",
              "      <td>0.0</td>\n",
              "      <td>0.000000</td>\n",
              "      <td>0.0</td>\n",
              "      <td>0.000000</td>\n",
              "      <td>0.0</td>\n",
              "      <td>0.0</td>\n",
              "      <td>0.0</td>\n",
              "      <td>0.0</td>\n",
              "      <td>0.0</td>\n",
              "      <td>neutral</td>\n",
              "    </tr>\n",
              "    <tr>\n",
              "      <th>98</th>\n",
              "      <td>0.0</td>\n",
              "      <td>0.0</td>\n",
              "      <td>0.0</td>\n",
              "      <td>0.0</td>\n",
              "      <td>0.000000</td>\n",
              "      <td>0.0</td>\n",
              "      <td>0.0</td>\n",
              "      <td>0.0</td>\n",
              "      <td>0.0</td>\n",
              "      <td>0.000000</td>\n",
              "      <td>...</td>\n",
              "      <td>0.0</td>\n",
              "      <td>0.000000</td>\n",
              "      <td>0.0</td>\n",
              "      <td>0.000000</td>\n",
              "      <td>0.0</td>\n",
              "      <td>0.0</td>\n",
              "      <td>0.0</td>\n",
              "      <td>0.0</td>\n",
              "      <td>0.0</td>\n",
              "      <td>negative</td>\n",
              "    </tr>\n",
              "    <tr>\n",
              "      <th>99</th>\n",
              "      <td>0.0</td>\n",
              "      <td>0.0</td>\n",
              "      <td>0.0</td>\n",
              "      <td>0.0</td>\n",
              "      <td>0.000000</td>\n",
              "      <td>0.0</td>\n",
              "      <td>0.0</td>\n",
              "      <td>0.0</td>\n",
              "      <td>0.0</td>\n",
              "      <td>0.193071</td>\n",
              "      <td>...</td>\n",
              "      <td>0.0</td>\n",
              "      <td>0.000000</td>\n",
              "      <td>0.0</td>\n",
              "      <td>0.000000</td>\n",
              "      <td>0.0</td>\n",
              "      <td>0.0</td>\n",
              "      <td>0.0</td>\n",
              "      <td>0.0</td>\n",
              "      <td>0.0</td>\n",
              "      <td>neutral</td>\n",
              "    </tr>\n",
              "  </tbody>\n",
              "</table>\n",
              "<p>100 rows × 1001 columns</p>\n",
              "</div>\n",
              "    <div class=\"colab-df-buttons\">\n",
              "\n",
              "  <div class=\"colab-df-container\">\n",
              "    <button class=\"colab-df-convert\" onclick=\"convertToInteractive('df-0e6dfd6a-f52e-421e-a978-0ab3d7544465')\"\n",
              "            title=\"Convert this dataframe to an interactive table.\"\n",
              "            style=\"display:none;\">\n",
              "\n",
              "  <svg xmlns=\"http://www.w3.org/2000/svg\" height=\"24px\" viewBox=\"0 -960 960 960\">\n",
              "    <path d=\"M120-120v-720h720v720H120Zm60-500h600v-160H180v160Zm220 220h160v-160H400v160Zm0 220h160v-160H400v160ZM180-400h160v-160H180v160Zm440 0h160v-160H620v160ZM180-180h160v-160H180v160Zm440 0h160v-160H620v160Z\"/>\n",
              "  </svg>\n",
              "    </button>\n",
              "\n",
              "  <style>\n",
              "    .colab-df-container {\n",
              "      display:flex;\n",
              "      gap: 12px;\n",
              "    }\n",
              "\n",
              "    .colab-df-convert {\n",
              "      background-color: #E8F0FE;\n",
              "      border: none;\n",
              "      border-radius: 50%;\n",
              "      cursor: pointer;\n",
              "      display: none;\n",
              "      fill: #1967D2;\n",
              "      height: 32px;\n",
              "      padding: 0 0 0 0;\n",
              "      width: 32px;\n",
              "    }\n",
              "\n",
              "    .colab-df-convert:hover {\n",
              "      background-color: #E2EBFA;\n",
              "      box-shadow: 0px 1px 2px rgba(60, 64, 67, 0.3), 0px 1px 3px 1px rgba(60, 64, 67, 0.15);\n",
              "      fill: #174EA6;\n",
              "    }\n",
              "\n",
              "    .colab-df-buttons div {\n",
              "      margin-bottom: 4px;\n",
              "    }\n",
              "\n",
              "    [theme=dark] .colab-df-convert {\n",
              "      background-color: #3B4455;\n",
              "      fill: #D2E3FC;\n",
              "    }\n",
              "\n",
              "    [theme=dark] .colab-df-convert:hover {\n",
              "      background-color: #434B5C;\n",
              "      box-shadow: 0px 1px 3px 1px rgba(0, 0, 0, 0.15);\n",
              "      filter: drop-shadow(0px 1px 2px rgba(0, 0, 0, 0.3));\n",
              "      fill: #FFFFFF;\n",
              "    }\n",
              "  </style>\n",
              "\n",
              "    <script>\n",
              "      const buttonEl =\n",
              "        document.querySelector('#df-0e6dfd6a-f52e-421e-a978-0ab3d7544465 button.colab-df-convert');\n",
              "      buttonEl.style.display =\n",
              "        google.colab.kernel.accessAllowed ? 'block' : 'none';\n",
              "\n",
              "      async function convertToInteractive(key) {\n",
              "        const element = document.querySelector('#df-0e6dfd6a-f52e-421e-a978-0ab3d7544465');\n",
              "        const dataTable =\n",
              "          await google.colab.kernel.invokeFunction('convertToInteractive',\n",
              "                                                    [key], {});\n",
              "        if (!dataTable) return;\n",
              "\n",
              "        const docLinkHtml = 'Like what you see? Visit the ' +\n",
              "          '<a target=\"_blank\" href=https://colab.research.google.com/notebooks/data_table.ipynb>data table notebook</a>'\n",
              "          + ' to learn more about interactive tables.';\n",
              "        element.innerHTML = '';\n",
              "        dataTable['output_type'] = 'display_data';\n",
              "        await google.colab.output.renderOutput(dataTable, element);\n",
              "        const docLink = document.createElement('div');\n",
              "        docLink.innerHTML = docLinkHtml;\n",
              "        element.appendChild(docLink);\n",
              "      }\n",
              "    </script>\n",
              "  </div>\n",
              "\n",
              "\n",
              "<div id=\"df-47985050-4996-435e-a48b-29a6479f34aa\">\n",
              "  <button class=\"colab-df-quickchart\" onclick=\"quickchart('df-47985050-4996-435e-a48b-29a6479f34aa')\"\n",
              "            title=\"Suggest charts\"\n",
              "            style=\"display:none;\">\n",
              "\n",
              "<svg xmlns=\"http://www.w3.org/2000/svg\" height=\"24px\"viewBox=\"0 0 24 24\"\n",
              "     width=\"24px\">\n",
              "    <g>\n",
              "        <path d=\"M19 3H5c-1.1 0-2 .9-2 2v14c0 1.1.9 2 2 2h14c1.1 0 2-.9 2-2V5c0-1.1-.9-2-2-2zM9 17H7v-7h2v7zm4 0h-2V7h2v10zm4 0h-2v-4h2v4z\"/>\n",
              "    </g>\n",
              "</svg>\n",
              "  </button>\n",
              "\n",
              "<style>\n",
              "  .colab-df-quickchart {\n",
              "      --bg-color: #E8F0FE;\n",
              "      --fill-color: #1967D2;\n",
              "      --hover-bg-color: #E2EBFA;\n",
              "      --hover-fill-color: #174EA6;\n",
              "      --disabled-fill-color: #AAA;\n",
              "      --disabled-bg-color: #DDD;\n",
              "  }\n",
              "\n",
              "  [theme=dark] .colab-df-quickchart {\n",
              "      --bg-color: #3B4455;\n",
              "      --fill-color: #D2E3FC;\n",
              "      --hover-bg-color: #434B5C;\n",
              "      --hover-fill-color: #FFFFFF;\n",
              "      --disabled-bg-color: #3B4455;\n",
              "      --disabled-fill-color: #666;\n",
              "  }\n",
              "\n",
              "  .colab-df-quickchart {\n",
              "    background-color: var(--bg-color);\n",
              "    border: none;\n",
              "    border-radius: 50%;\n",
              "    cursor: pointer;\n",
              "    display: none;\n",
              "    fill: var(--fill-color);\n",
              "    height: 32px;\n",
              "    padding: 0;\n",
              "    width: 32px;\n",
              "  }\n",
              "\n",
              "  .colab-df-quickchart:hover {\n",
              "    background-color: var(--hover-bg-color);\n",
              "    box-shadow: 0 1px 2px rgba(60, 64, 67, 0.3), 0 1px 3px 1px rgba(60, 64, 67, 0.15);\n",
              "    fill: var(--button-hover-fill-color);\n",
              "  }\n",
              "\n",
              "  .colab-df-quickchart-complete:disabled,\n",
              "  .colab-df-quickchart-complete:disabled:hover {\n",
              "    background-color: var(--disabled-bg-color);\n",
              "    fill: var(--disabled-fill-color);\n",
              "    box-shadow: none;\n",
              "  }\n",
              "\n",
              "  .colab-df-spinner {\n",
              "    border: 2px solid var(--fill-color);\n",
              "    border-color: transparent;\n",
              "    border-bottom-color: var(--fill-color);\n",
              "    animation:\n",
              "      spin 1s steps(1) infinite;\n",
              "  }\n",
              "\n",
              "  @keyframes spin {\n",
              "    0% {\n",
              "      border-color: transparent;\n",
              "      border-bottom-color: var(--fill-color);\n",
              "      border-left-color: var(--fill-color);\n",
              "    }\n",
              "    20% {\n",
              "      border-color: transparent;\n",
              "      border-left-color: var(--fill-color);\n",
              "      border-top-color: var(--fill-color);\n",
              "    }\n",
              "    30% {\n",
              "      border-color: transparent;\n",
              "      border-left-color: var(--fill-color);\n",
              "      border-top-color: var(--fill-color);\n",
              "      border-right-color: var(--fill-color);\n",
              "    }\n",
              "    40% {\n",
              "      border-color: transparent;\n",
              "      border-right-color: var(--fill-color);\n",
              "      border-top-color: var(--fill-color);\n",
              "    }\n",
              "    60% {\n",
              "      border-color: transparent;\n",
              "      border-right-color: var(--fill-color);\n",
              "    }\n",
              "    80% {\n",
              "      border-color: transparent;\n",
              "      border-right-color: var(--fill-color);\n",
              "      border-bottom-color: var(--fill-color);\n",
              "    }\n",
              "    90% {\n",
              "      border-color: transparent;\n",
              "      border-bottom-color: var(--fill-color);\n",
              "    }\n",
              "  }\n",
              "</style>\n",
              "\n",
              "  <script>\n",
              "    async function quickchart(key) {\n",
              "      const quickchartButtonEl =\n",
              "        document.querySelector('#' + key + ' button');\n",
              "      quickchartButtonEl.disabled = true;  // To prevent multiple clicks.\n",
              "      quickchartButtonEl.classList.add('colab-df-spinner');\n",
              "      try {\n",
              "        const charts = await google.colab.kernel.invokeFunction(\n",
              "            'suggestCharts', [key], {});\n",
              "      } catch (error) {\n",
              "        console.error('Error during call to suggestCharts:', error);\n",
              "      }\n",
              "      quickchartButtonEl.classList.remove('colab-df-spinner');\n",
              "      quickchartButtonEl.classList.add('colab-df-quickchart-complete');\n",
              "    }\n",
              "    (() => {\n",
              "      let quickchartButtonEl =\n",
              "        document.querySelector('#df-47985050-4996-435e-a48b-29a6479f34aa button');\n",
              "      quickchartButtonEl.style.display =\n",
              "        google.colab.kernel.accessAllowed ? 'block' : 'none';\n",
              "    })();\n",
              "  </script>\n",
              "</div>\n",
              "    </div>\n",
              "  </div>\n"
            ]
          },
          "metadata": {},
          "execution_count": 13
        }
      ]
    },
    {
      "cell_type": "code",
      "source": [
        "final_data.isna().sum()"
      ],
      "metadata": {
        "colab": {
          "base_uri": "https://localhost:8080/"
        },
        "id": "Yd1eKJ4TTrde",
        "outputId": "cceb066e-924b-48e6-ad97-6d0e9195fd6b"
      },
      "execution_count": null,
      "outputs": [
        {
          "output_type": "execute_result",
          "data": {
            "text/plain": [
              "000          6\n",
              "100          6\n",
              "12month      6\n",
              "135          6\n",
              "150          6\n",
              "            ..\n",
              "yesterday    6\n",
              "yet          6\n",
              "yhoo         6\n",
              "yit          6\n",
              "Sentiment    6\n",
              "Length: 1001, dtype: int64"
            ]
          },
          "metadata": {},
          "execution_count": 14
        }
      ]
    },
    {
      "cell_type": "code",
      "source": [
        "final_data = final_data.fillna(final_data.mean())"
      ],
      "metadata": {
        "colab": {
          "base_uri": "https://localhost:8080/"
        },
        "id": "XYidKlKrTzTr",
        "outputId": "d4ae5826-bdc8-4ea9-a492-d6c047c76c1e"
      },
      "execution_count": null,
      "outputs": [
        {
          "output_type": "stream",
          "name": "stderr",
          "text": [
            "<ipython-input-15-c63a87a635cc>:1: FutureWarning: The default value of numeric_only in DataFrame.mean is deprecated. In a future version, it will default to False. In addition, specifying 'numeric_only=None' is deprecated. Select only valid columns or specify the value of numeric_only to silence this warning.\n",
            "  final_data = final_data.fillna(final_data.mean())\n"
          ]
        }
      ]
    },
    {
      "cell_type": "code",
      "source": [
        "# Hitung distribusi kelas pada atribut \"Sentimen\"\n",
        "sentimen_distribution = final_data['Sentiment'].value_counts()\n",
        "\n",
        "# Cetak distribusi kelas\n",
        "print(sentimen_distribution)"
      ],
      "metadata": {
        "colab": {
          "base_uri": "https://localhost:8080/"
        },
        "id": "e5hYgYAxVN02",
        "outputId": "072d655a-9f88-409c-b23f-615c1299ed31"
      },
      "execution_count": null,
      "outputs": [
        {
          "output_type": "stream",
          "name": "stdout",
          "text": [
            "neutral     3130\n",
            "positive    1852\n",
            "negative     860\n",
            "Name: Sentiment, dtype: int64\n"
          ]
        }
      ]
    },
    {
      "cell_type": "markdown",
      "source": [
        "# Evaluasi menggunakan 3 Kelas"
      ],
      "metadata": {
        "id": "yv6MPlJ3qQq4"
      }
    },
    {
      "cell_type": "code",
      "source": [
        "# Cetak distribusi kelas\n",
        "print(sentimen_distribution)\n",
        "\n",
        "# Plot distribusi kelas\n",
        "plt.figure(figsize=(8, 6))\n",
        "sentimen_distribution.plot(kind='bar', color=['green', 'yellow', 'red'])\n",
        "plt.title('Distribusi Kelas Sentimen')\n",
        "plt.xlabel('Sentimen')\n",
        "plt.ylabel('Jumlah Data')\n",
        "plt.show()"
      ],
      "metadata": {
        "colab": {
          "base_uri": "https://localhost:8080/",
          "height": 680
        },
        "id": "tovJ_puqluPs",
        "outputId": "7d19652c-1126-47a4-c652-754a090e3a51"
      },
      "execution_count": null,
      "outputs": [
        {
          "output_type": "stream",
          "name": "stdout",
          "text": [
            "neutral     3130\n",
            "positive    1852\n",
            "negative     860\n",
            "Name: Sentiment, dtype: int64\n"
          ]
        },
        {
          "output_type": "display_data",
          "data": {
            "text/plain": [
              "<Figure size 800x600 with 1 Axes>"
            ],
            "image/png": "[encoded data removed]"
          },
          "metadata": {}
        }
      ]
    },
    {
      "cell_type": "code",
      "source": [
        "# Isi nilai NaN pada kolom \"Sentimen\" dengan \"Neutral\"\n",
        "final_data['Sentiment'] = final_data['Sentiment'].fillna('neutral')\n",
        "\n",
        "# Verifikasi perubahan\n",
        "print(final_data['Sentiment'].value_counts())\n"
      ],
      "metadata": {
        "colab": {
          "base_uri": "https://localhost:8080/"
        },
        "id": "uJUd0TsYVYqd",
        "outputId": "8a3a5e37-1c4d-4c7d-8663-8157724cbbf0"
      },
      "execution_count": null,
      "outputs": [
        {
          "output_type": "stream",
          "name": "stdout",
          "text": [
            "neutral     3130\n",
            "positive    1852\n",
            "negative     860\n",
            "Name: Sentiment, dtype: int64\n"
          ]
        }
      ]
    },
    {
      "cell_type": "code",
      "source": [
        "# Pisahkan fitur dan label\n",
        "X = final_data.drop(sentiment_column, axis=1)\n",
        "y = final_data[sentiment_column]\n",
        "\n",
        "# Terapkan PCA\n",
        "pca = PCA(n_components=2)\n",
        "X_pca = pca.fit_transform(X)\n",
        "\n",
        "# Buat DataFrame baru dari hasil PCA\n",
        "pca_df = pd.DataFrame(data=X_pca, columns=['PC1', 'PC2'])\n",
        "\n",
        "# Bagi data menjadi set pelatihan dan pengujian (misalnya, 80% train, 20% test)\n",
        "X_train, X_test, y_train, y_test = train_test_split(X_pca, y, test_size=0.2, random_state=42)"
      ],
      "metadata": {
        "id": "kqS_immaUPDI"
      },
      "execution_count": null,
      "outputs": []
    },
    {
      "cell_type": "code",
      "source": [
        "# Inisialisasi model SVM\n",
        "svm_model = SVC()\n",
        "\n",
        "# Latih model menggunakan data pelatihan\n",
        "svm_model.fit(X_train, y_train)\n",
        "\n",
        "# Prediksi label menggunakan data pengujian\n",
        "y_pred = svm_model.predict(X_test)\n",
        "\n",
        "# Evaluasi kinerja model\n",
        "accuracy = accuracy_score(y_test, y_pred)\n",
        "report = classification_report(y_test, y_pred,zero_division=1)\n",
        "\n",
        "print(f'Accuracy: {accuracy}')\n",
        "print(f'Classification Report:\\n{report}')"
      ],
      "metadata": {
        "colab": {
          "base_uri": "https://localhost:8080/"
        },
        "id": "ZHx14ZSvUvhL",
        "outputId": "d6766595-7fb5-43fd-bff2-6f86a3e98894"
      },
      "execution_count": null,
      "outputs": [
        {
          "output_type": "stream",
          "name": "stdout",
          "text": [
            "Accuracy: 0.5320786997433704\n",
            "Classification Report:\n",
            "              precision    recall  f1-score   support\n",
            "\n",
            "    negative       1.00      0.00      0.00       175\n",
            "     neutral       0.53      1.00      0.69       622\n",
            "    positive       1.00      0.00      0.00       372\n",
            "\n",
            "    accuracy                           0.53      1169\n",
            "   macro avg       0.84      0.33      0.23      1169\n",
            "weighted avg       0.75      0.53      0.37      1169\n",
            "\n"
          ]
        }
      ]
    },
    {
      "cell_type": "code",
      "source": [
        "from sklearn.metrics import confusion_matrix\n",
        "import seaborn as sns\n",
        "import matplotlib.pyplot as plt"
      ],
      "metadata": {
        "id": "TL5wKM_elXFI"
      },
      "execution_count": null,
      "outputs": []
    },
    {
      "cell_type": "code",
      "source": [
        "# Visualisasi Confusion Matrix\n",
        "\n",
        "conf_matrix = confusion_matrix(y_test, y_pred)\n",
        "\n",
        "plt.figure(figsize=(8, 6))\n",
        "sns.heatmap(conf_matrix, annot=True, fmt='d', cmap='Blues', cbar=False,\n",
        "            xticklabels=['Predicted Negative', 'Predicted Neutral', 'Predicted Positive'],\n",
        "            yticklabels=['Actual Negative', 'Actual Neutral', 'Actual Positive'])\n",
        "plt.title('Confusion Matrix  3 Kelas')\n",
        "plt.show()"
      ],
      "metadata": {
        "colab": {
          "base_uri": "https://localhost:8080/",
          "height": 572
        },
        "id": "W17l5dPIlUYZ",
        "outputId": "484cc6ac-925e-42a6-93ee-bb4c271b7498"
      },
      "execution_count": null,
      "outputs": [
        {
          "output_type": "display_data",
          "data": {
            "text/plain": [
              "<Figure size 800x600 with 1 Axes>"
            ],
            "image/png": "[encoded data removed]"
          },
          "metadata": {}
        }
      ]
    },
    {
      "cell_type": "markdown",
      "source": [
        "# Evaluasi menggunakan 2 Kelas"
      ],
      "metadata": {
        "id": "slmP_4ocqYas"
      }
    },
    {
      "cell_type": "code",
      "source": [
        "# Hapus baris dengan sentimen \"neutral\"\n",
        "new_final_data = final_data[final_data['Sentiment'] != 'neutral']\n",
        "\n",
        "# Cetak DataFrame setelah penghapusan\n",
        "print(new_final_data)"
      ],
      "metadata": {
        "colab": {
          "base_uri": "https://localhost:8080/"
        },
        "id": "eJh_KLxomCp9",
        "outputId": "527e9e57-5df5-47c1-ac01-993a39fa86da"
      },
      "execution_count": null,
      "outputs": [
        {
          "output_type": "stream",
          "name": "stdout",
          "text": [
            "           000       100   12month       135       150       200      2004  \\\n",
            "0     0.000000  0.000000  0.000000  0.000000  0.000000  0.000000  0.000000   \n",
            "1     0.000000  0.000000  0.000000  0.000000  0.614215  0.000000  0.000000   \n",
            "2     0.000000  0.000000  0.000000  0.000000  0.000000  0.000000  0.000000   \n",
            "5     0.000000  0.000000  0.000000  0.000000  0.000000  0.000000  0.000000   \n",
            "6     0.000000  0.000000  0.000000  0.000000  0.000000  0.000000  0.000000   \n",
            "...        ...       ...       ...       ...       ...       ...       ...   \n",
            "5832  0.000000  0.000000  0.000000  0.000000  0.000000  0.000000  0.000000   \n",
            "5835  0.000000  0.000000  0.000000  0.000000  0.000000  0.000000  0.000000   \n",
            "5836  0.001583  0.002742  0.001086  0.000872  0.001300  0.001418  0.003046   \n",
            "5837  0.001583  0.002742  0.001086  0.000872  0.001300  0.001418  0.003046   \n",
            "5841  0.001583  0.002742  0.001086  0.000872  0.001300  0.001418  0.003046   \n",
            "\n",
            "          2005      2006      2007  ...     worth     would    x20ac  \\\n",
            "0     0.000000  0.000000  0.000000  ...  0.000000  0.000000  0.00000   \n",
            "1     0.000000  0.000000  0.000000  ...  0.000000  0.000000  0.00000   \n",
            "2     0.000000  0.000000  0.000000  ...  0.000000  0.000000  0.00000   \n",
            "5     0.000000  0.000000  0.000000  ...  0.000000  0.000000  0.00000   \n",
            "6     0.000000  0.000000  0.000000  ...  0.000000  0.000000  0.00000   \n",
            "...        ...       ...       ...  ...       ...       ...      ...   \n",
            "5832  0.000000  0.000000  0.000000  ...  0.000000  0.000000  0.00000   \n",
            "5835  0.000000  0.000000  0.000000  ...  0.000000  0.000000  0.00000   \n",
            "5836  0.006501  0.008336  0.012103  ...  0.002034  0.005503  0.00174   \n",
            "5837  0.006501  0.008336  0.012103  ...  0.002034  0.005503  0.00174   \n",
            "5841  0.006501  0.008336  0.012103  ...  0.002034  0.005503  0.00174   \n",
            "\n",
            "          year  yearonyear  yesterday       yet      yhoo       yit  Sentiment  \n",
            "0     0.000000    0.000000   0.000000  0.000000  0.000000  0.000000   positive  \n",
            "1     0.000000    0.000000   0.000000  0.000000  0.000000  0.000000   negative  \n",
            "2     0.204461    0.000000   0.000000  0.000000  0.000000  0.000000   positive  \n",
            "5     0.000000    0.000000   0.000000  0.000000  0.000000  0.000000   positive  \n",
            "6     0.000000    0.000000   0.000000  0.000000  0.000000  0.000000   negative  \n",
            "...        ...         ...        ...       ...       ...       ...        ...  \n",
            "5832  0.000000    0.000000   0.000000  0.000000  0.000000  0.000000   negative  \n",
            "5835  0.000000    0.000000   0.000000  0.000000  0.000000  0.000000   negative  \n",
            "5836  0.015015    0.002657   0.001507  0.001062  0.001191  0.002041   positive  \n",
            "5837  0.015015    0.002657   0.001507  0.001062  0.001191  0.002041   negative  \n",
            "5841  0.015015    0.002657   0.001507  0.001062  0.001191  0.002041   positive  \n",
            "\n",
            "[2712 rows x 1001 columns]\n"
          ]
        }
      ]
    },
    {
      "cell_type": "code",
      "source": [
        "# Hitung distribusi kelas pada atribut \"Sentimen\"\n",
        "new_sentimen_distribution = new_final_data['Sentiment'].value_counts()\n",
        "\n",
        "# Cetak distribusi kelas\n",
        "print(new_sentimen_distribution)"
      ],
      "metadata": {
        "colab": {
          "base_uri": "https://localhost:8080/"
        },
        "id": "XBFNlr9pmlNc",
        "outputId": "4b592804-1e78-47bb-ec30-f3ac9fb62033"
      },
      "execution_count": null,
      "outputs": [
        {
          "output_type": "stream",
          "name": "stdout",
          "text": [
            "positive    1852\n",
            "negative     860\n",
            "Name: Sentiment, dtype: int64\n"
          ]
        }
      ]
    },
    {
      "cell_type": "code",
      "source": [
        "# Plot distribusi kelas\n",
        "plt.figure(figsize=(8, 6))\n",
        "new_sentimen_distribution.plot(kind='bar', color=[ 'yellow', 'red'])\n",
        "plt.title('Distribusi Kelas Sentimen')\n",
        "plt.xlabel('Sentimen')\n",
        "plt.ylabel('Jumlah Data')\n",
        "plt.show()"
      ],
      "metadata": {
        "colab": {
          "base_uri": "https://localhost:8080/",
          "height": 611
        },
        "id": "iCEfHhACm8Ks",
        "outputId": "c7b9a8ff-8896-425d-fd44-99133b1b442b"
      },
      "execution_count": null,
      "outputs": [
        {
          "output_type": "display_data",
          "data": {
            "text/plain": [
              "<Figure size 800x600 with 1 Axes>"
            ],
            "image/png": "[encoded data removed]"
          },
          "metadata": {}
        }
      ]
    },
    {
      "cell_type": "code",
      "source": [
        "from sklearn.model_selection import train_test_split\n",
        "from sklearn.decomposition import PCA\n",
        "\n",
        "# Pisahkan fitur dan label\n",
        "X = new_final_data.drop(sentiment_column, axis=1)\n",
        "y = new_final_data[sentiment_column]\n",
        "\n",
        "# Terapkan PCA\n",
        "pca = PCA(n_components=2)\n",
        "X_pca = pca.fit_transform(X)\n",
        "\n",
        "# Buat DataFrame baru dari hasil PCA\n",
        "pca_df = pd.DataFrame(data=X_pca, columns=['PC1', 'PC2'])\n",
        "\n",
        "# Gabungkan dengan label untuk analisis lebih lanjut\n",
        "result_df = pd.concat([pca_df, y], axis=1)\n",
        "\n",
        "# Tampilkan hasil\n",
        "print(result_df.head(50))\n",
        "\n",
        "# Bagi data menjadi set pelatihan dan pengujian (misalnya, 80% train, 20% test)\n",
        "X_train_new, X_test_new, y_train, y_test = train_test_split(X_pca, y, test_size=0.2, random_state=42)"
      ],
      "metadata": {
        "colab": {
          "base_uri": "https://localhost:8080/"
        },
        "id": "ppzTwJ0FnI0-",
        "outputId": "afa6a76c-47db-4105-8b55-bbb9c65f5241"
      },
      "execution_count": null,
      "outputs": [
        {
          "output_type": "stream",
          "name": "stdout",
          "text": [
            "         PC1       PC2 Sentiment\n",
            "0  -0.090909 -0.028468  positive\n",
            "1  -0.075738 -0.032383  negative\n",
            "2   0.194214  0.190206  positive\n",
            "3  -0.091510 -0.055995       NaN\n",
            "4  -0.079313 -0.030240       NaN\n",
            "5  -0.032244  0.030318  positive\n",
            "6   0.080933  0.175293  negative\n",
            "7  -0.010413  0.007210  negative\n",
            "8  -0.076668 -0.006992  positive\n",
            "9   0.548704 -0.021914       NaN\n",
            "10 -0.079894 -0.043750  positive\n",
            "11 -0.058585 -0.023922  negative\n",
            "12 -0.072964 -0.028733  positive\n",
            "13 -0.081621 -0.033636       NaN\n",
            "14 -0.076505 -0.036016       NaN\n",
            "15 -0.069005 -0.008384  positive\n",
            "16 -0.067426 -0.016225  positive\n",
            "17 -0.070737 -0.024920       NaN\n",
            "18  0.098509 -0.075976       NaN\n",
            "19 -0.087359 -0.052199       NaN\n",
            "20 -0.091895 -0.057933       NaN\n",
            "21 -0.073929 -0.004533  positive\n",
            "22 -0.067599 -0.020198       NaN\n",
            "23 -0.063843  0.019204       NaN\n",
            "24 -0.029340  0.081162       NaN\n",
            "25 -0.096623 -0.057454  positive\n",
            "26  0.154194  0.107386  positive\n",
            "27  0.011022  0.101196       NaN\n",
            "28  0.420017 -0.098449       NaN\n",
            "29 -0.060905  0.066267       NaN\n",
            "30 -0.064737  0.000098  positive\n",
            "31 -0.057809 -0.061955       NaN\n",
            "32 -0.084074 -0.042997  positive\n",
            "33  0.102225  0.080254       NaN\n",
            "34 -0.090577 -0.052736  positive\n",
            "35 -0.083289 -0.045924       NaN\n",
            "36  0.356893  0.173953       NaN\n",
            "37 -0.092205 -0.038468  positive\n",
            "38 -0.078941 -0.036878       NaN\n",
            "39  0.716423 -0.184986  negative\n",
            "40 -0.032843  0.130628  negative\n",
            "41 -0.101188 -0.032045  negative\n",
            "42 -0.074723  0.029512  negative\n",
            "43  0.146872  0.172345  positive\n",
            "44 -0.036710  0.043817  positive\n",
            "45 -0.073067 -0.031799  negative\n",
            "46 -0.093535 -0.071220       NaN\n",
            "47 -0.086710 -0.054314       NaN\n",
            "48 -0.086490 -0.056598  positive\n",
            "49 -0.093270 -0.024096       NaN\n"
          ]
        }
      ]
    },
    {
      "cell_type": "code",
      "source": [
        "from sklearn.model_selection import train_test_split\n",
        "from sklearn.svm import SVC\n",
        "from sklearn.metrics import accuracy_score, classification_report\n",
        "\n",
        "# Inisialisasi model SVM\n",
        "svm_model = SVC()\n",
        "\n",
        "# Latih model menggunakan data pelatihan\n",
        "svm_model.fit(X_train_new, y_train)\n",
        "\n",
        "# Prediksi label menggunakan data pengujian\n",
        "y_pred = svm_model.predict(X_test_new)\n",
        "\n",
        "# Evaluasi kinerja model\n",
        "accuracy = accuracy_score(y_test, y_pred)\n",
        "report = classification_report(y_test, y_pred,zero_division=1)\n",
        "\n",
        "print(f'Accuracy: {accuracy}')\n",
        "print(f'Classification Report:\\n{report}')"
      ],
      "metadata": {
        "colab": {
          "base_uri": "https://localhost:8080/"
        },
        "id": "vHJ3xucYnaCE",
        "outputId": "c53db8f9-1d94-4d37-a3f0-4210dddc7687"
      },
      "execution_count": null,
      "outputs": [
        {
          "output_type": "stream",
          "name": "stdout",
          "text": [
            "Accuracy: 0.7016574585635359\n",
            "Classification Report:\n",
            "              precision    recall  f1-score   support\n",
            "\n",
            "    negative       1.00      0.00      0.00       162\n",
            "    positive       0.70      1.00      0.82       381\n",
            "\n",
            "    accuracy                           0.70       543\n",
            "   macro avg       0.85      0.50      0.41       543\n",
            "weighted avg       0.79      0.70      0.58       543\n",
            "\n"
          ]
        }
      ]
    },
    {
      "cell_type": "code",
      "source": [
        "conf_matrix = confusion_matrix(y_test, y_pred)\n",
        "\n",
        "# Visualisasi Confusion Matrix\n",
        "plt.figure(figsize=(8, 6))\n",
        "sns.heatmap(conf_matrix, annot=True, fmt='d', cmap='Blues', cbar=False,\n",
        "            xticklabels=['Predicted Negative', 'Predicted Positive'],\n",
        "            yticklabels=['Actual Negative', 'Actual Positive'])\n",
        "plt.title('Confusion Matrix 2 Kelas')\n",
        "plt.show()"
      ],
      "metadata": {
        "colab": {
          "base_uri": "https://localhost:8080/",
          "height": 545
        },
        "id": "tc_4iO3VoDIf",
        "outputId": "5f5c931f-9a70-49f0-e4f4-af493e5a3006"
      },
      "execution_count": null,
      "outputs": [
        {
          "output_type": "display_data",
          "data": {
            "text/plain": [
              "<Figure size 800x600 with 1 Axes>"
            ],
            "image/png": "[encoded data removed]"
          },
          "metadata": {}
        }
      ]
    }
  ]
}